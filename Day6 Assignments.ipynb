{
 "cells": [
  {
   "cell_type": "markdown",
   "metadata": {},
   "source": [
    "Let us assume paper as the plane and a letter as a curve on the plane, then each letter divides\n",
    "the plane into regions. For example letters \"A\", \"D\",\"O\", \"P\", \"R\" divide the plane into two\n",
    "regions so we say these letters each have one hole. Similarly, letter \"B\" has two holes and\n",
    "letters such as \"C\",\"E\", \"F\", \"K\" have no holes. We say that the number of holes in the text is\n",
    "equal to the total number of holes in the letters of the text.\n",
    "Write a program to determine how many holes are in a given text."
   ]
  },
  {
   "cell_type": "code",
   "execution_count": 1,
   "metadata": {},
   "outputs": [
    {
     "name": "stdout",
     "output_type": "stream",
     "text": [
      "Please enter in capital OHMYGOD\n",
      "3\n"
     ]
    }
   ],
   "source": [
    "s = {'A','B','D','O','P','Q','R'}\n",
    "lis=[]\n",
    "\n",
    "hole = 0\n",
    "li=input(\"Please enter in capital \")\n",
    "\n",
    "for item in li:\n",
    "    if(item in s):\n",
    "        if(item==\"B\"):\n",
    "            hole=hole+2\n",
    "        else:\n",
    "            hole=hole+1\n",
    "\n",
    "print(hole)"
   ]
  },
  {
   "cell_type": "markdown",
   "metadata": {},
   "source": [
    "# map\n"
   ]
  },
  {
   "cell_type": "raw",
   "metadata": {},
   "source": [
    "syntax : map (function ,iterables)"
   ]
  },
  {
   "cell_type": "code",
   "execution_count": 2,
   "metadata": {},
   "outputs": [
    {
     "name": "stdout",
     "output_type": "stream",
     "text": [
      "(1, 4, 9, 16)\n"
     ]
    }
   ],
   "source": [
    "def sqr(a):\n",
    "    return a*a\n",
    "x=map(sqr,[1,2,3,4])\n",
    "print(tuple(x))\n"
   ]
  },
  {
   "cell_type": "code",
   "execution_count": 3,
   "metadata": {},
   "outputs": [
    {
     "name": "stdout",
     "output_type": "stream",
     "text": [
      "<map object at 0x0000000420AE3188>\n"
     ]
    }
   ],
   "source": [
    "x\n",
    "print(x)"
   ]
  },
  {
   "cell_type": "code",
   "execution_count": 4,
   "metadata": {},
   "outputs": [
    {
     "name": "stdout",
     "output_type": "stream",
     "text": [
      "<map object at 0x0000000420AED2C8>\n",
      "[-1, 0, 1, 2]\n"
     ]
    }
   ],
   "source": [
    "#map(functions,iterables)\n",
    "def sqr(a,b):\n",
    "    return a-b\n",
    "x=map(sqr,[1,2,3,4],[2,2,2,2])\n",
    "print(x)\n",
    "print(list(x))\n"
   ]
  },
  {
   "cell_type": "markdown",
   "metadata": {},
   "source": [
    "# Lambda function\n",
    "They do not have any name\n",
    "\n",
    "Its keyword"
   ]
  },
  {
   "cell_type": "code",
   "execution_count": 9,
   "metadata": {},
   "outputs": [
    {
     "data": {
      "text/plain": [
       "9"
      ]
     },
     "execution_count": 9,
     "metadata": {},
     "output_type": "execute_result"
    }
   ],
   "source": [
    "def sqr(a):\n",
    "    return a*a\n",
    "sqr(3)\n"
   ]
  },
  {
   "cell_type": "raw",
   "metadata": {},
   "source": [
    "#syntax \n",
    "lambda argument : expression"
   ]
  },
  {
   "cell_type": "code",
   "execution_count": 10,
   "metadata": {},
   "outputs": [
    {
     "data": {
      "text/plain": [
       "9"
      ]
     },
     "execution_count": 10,
     "metadata": {},
     "output_type": "execute_result"
    }
   ],
   "source": [
    "#with lambda\n",
    "x=lambda a:a*a\n",
    "x(3)\n"
   ]
  },
  {
   "cell_type": "code",
   "execution_count": 11,
   "metadata": {},
   "outputs": [
    {
     "data": {
      "text/plain": [
       "27"
      ]
     },
     "execution_count": 11,
     "metadata": {},
     "output_type": "execute_result"
    }
   ],
   "source": [
    "y=lambda b:b*3\n",
    "y(9)\n"
   ]
  },
  {
   "cell_type": "raw",
   "metadata": {},
   "source": [
    "Why we use lambda:\n",
    "We use lambda functions when we require a nameless function for a short period of time.\n"
   ]
  },
  {
   "cell_type": "code",
   "execution_count": 12,
   "metadata": {},
   "outputs": [
    {
     "name": "stdout",
     "output_type": "stream",
     "text": [
      "<function abc.<locals>.<lambda> at 0x0000000420AC9B88>\n",
      "12\n"
     ]
    }
   ],
   "source": [
    "#lambda within user defind functions\n",
    "def abc(x):\n",
    "    return lambda y:x+y\n",
    "t=abc(4)\n",
    "print(t)\n",
    "print(t(8))"
   ]
  }
 ],
 "metadata": {
  "kernelspec": {
   "display_name": "Python 3",
   "language": "python",
   "name": "python3"
  },
  "language_info": {
   "codemirror_mode": {
    "name": "ipython",
    "version": 3
   },
   "file_extension": ".py",
   "mimetype": "text/x-python",
   "name": "python",
   "nbconvert_exporter": "python",
   "pygments_lexer": "ipython3",
   "version": "3.7.4"
  }
 },
 "nbformat": 4,
 "nbformat_minor": 2
}
