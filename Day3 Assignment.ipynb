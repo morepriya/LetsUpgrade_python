{
 "cells": [
  {
   "cell_type": "raw",
   "metadata": {},
   "source": [
    "Write a program for taking one number a input and then using if elif esle concept,assign a grade to the input number from A , B,C,D,E,Fail\n"
   ]
  },
  {
   "cell_type": "code",
   "execution_count": 9,
   "metadata": {},
   "outputs": [
    {
     "name": "stdout",
     "output_type": "stream",
     "text": [
      "Enter the grade  87\n",
      "B\n"
     ]
    }
   ],
   "source": [
    "grade=int(input(\"Enter the grade  \"))\n",
    "if grade >= 95:\n",
    "    print(\"A\")\n",
    "elif grade >=75:\n",
    "    print(\"B\")\n",
    "elif grade >=60:\n",
    "    print(\"C\")\n",
    "elif grade >=40:\n",
    "    print(\"D\")\n",
    "else:\n",
    "    print(\"Fail\")"
   ]
  },
  {
   "cell_type": "raw",
   "metadata": {},
   "source": [
    "Write the program  that given you random score of team India in a cricket match and a players has to guess the score given by computer in between 1 to 250."
   ]
  },
  {
   "cell_type": "code",
   "execution_count": 8,
   "metadata": {},
   "outputs": [
    {
     "name": "stdout",
     "output_type": "stream",
     "text": [
      "Guees the score 2\n",
      "Close By , you are True Indian Fan!\n"
     ]
    }
   ],
   "source": [
    "score=int(input(\"Guees the score \"))\n",
    "if score <1 or score >250:\n",
    "    print(\"Reduce your expectation for 20-20 cricket\")\n",
    "elif score >=1 and score <=10:\n",
    "    print(\"Close By , you are True Indian Fan!\")\n",
    "else:\n",
    "    print(\"You don't watch taht match!.P\")"
   ]
  },
  {
   "cell_type": "code",
   "execution_count": null,
   "metadata": {},
   "outputs": [],
   "source": []
  }
 ],
 "metadata": {
  "kernelspec": {
   "display_name": "Python 3",
   "language": "python",
   "name": "python3"
  },
  "language_info": {
   "codemirror_mode": {
    "name": "ipython",
    "version": 3
   },
   "file_extension": ".py",
   "mimetype": "text/x-python",
   "name": "python",
   "nbconvert_exporter": "python",
   "pygments_lexer": "ipython3",
   "version": "3.7.4"
  }
 },
 "nbformat": 4,
 "nbformat_minor": 2
}
