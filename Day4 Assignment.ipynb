{
 "cells": [
  {
   "cell_type": "raw",
   "metadata": {},
   "source": [
    "write a program to identify [1,1,5] in the given list in the same order if yes print\"its a match\" if no then print \"its gone\""
   ]
  },
  {
   "cell_type": "code",
   "execution_count": 4,
   "metadata": {},
   "outputs": [
    {
     "name": "stdout",
     "output_type": "stream",
     "text": [
      "Enter number of elements : 7\n",
      "1\n",
      "4\n",
      "1\n",
      "4\n",
      "6\n",
      "5\n",
      "7\n",
      "Original list : [1, 4, 1, 4, 6, 5, 7]\n",
      "Original sub list : [1, 1, 5]\n",
      "its a match\n"
     ]
    }
   ],
   "source": [
    "from collections import Counter \n",
    "  \n",
    "def checkInFirst(l1,l2): \n",
    "     #getting count \n",
    "    count_l1 = Counter(l1) \n",
    "    count_l2 = Counter(l2) \n",
    "  \n",
    "    #checking if element exsists in second list \n",
    "    for key in count_l2: \n",
    "        if key not in  count_l1: \n",
    "            return False\n",
    "        if count_l2[key]> count_l2[key]: \n",
    "            return False\n",
    "    return True\n",
    "\n",
    "\n",
    "l2=[1,1,5]\n",
    "l1= [ ] \n",
    "n = int(input(\"Enter number of elements : \")) \n",
    "  \n",
    "for i in range(0, n): \n",
    "    element = int(input())\n",
    "    l1.append(element) \n",
    "      \n",
    "res = checkInFirst(l1,l2) \n",
    "  \n",
    "#Printing list \n",
    "print (\"Original list : \" + str(l1)) \n",
    "print (\"Original sub list : \" + str(l2)) \n",
    "  \n",
    "if res==True : \n",
    "    print (\"its a match\") \n",
    "else : \n",
    "    print (\"its gone\") \n",
    "      \n",
    " "
   ]
  },
  {
   "cell_type": "code",
   "execution_count": null,
   "metadata": {},
   "outputs": [],
   "source": []
  }
 ],
 "metadata": {
  "kernelspec": {
   "display_name": "Python 3",
   "language": "python",
   "name": "python3"
  },
  "language_info": {
   "codemirror_mode": {
    "name": "ipython",
    "version": 3
   },
   "file_extension": ".py",
   "mimetype": "text/x-python",
   "name": "python",
   "nbconvert_exporter": "python",
   "pygments_lexer": "ipython3",
   "version": "3.7.4"
  }
 },
 "nbformat": 4,
 "nbformat_minor": 2
}
