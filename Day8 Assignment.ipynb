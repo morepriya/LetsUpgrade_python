{
 "cells": [
  {
   "cell_type": "raw",
   "metadata": {},
   "source": [
    "You are provided with a number D containing only digits 0's and 1's. Your aim is to convert\n",
    "this number to have all the digits same."
   ]
  },
  {
   "cell_type": "code",
   "execution_count": 1,
   "metadata": {},
   "outputs": [
    {
     "name": "stdout",
     "output_type": "stream",
     "text": [
      "121\n",
      "NO\n"
     ]
    }
   ],
   "source": [
    "D=input()\n",
    "zeros = 0\n",
    "for num in D:\n",
    "    if num == '0':\n",
    "        zeros += 1\n",
    "if zeros == 1 or zeros == len(D)-1:\n",
    "    print ('YES')\n",
    "else:\n",
    "    print ('NO')\n"
   ]
  }
 ],
 "metadata": {
  "kernelspec": {
   "display_name": "Python 3",
   "language": "python",
   "name": "python3"
  },
  "language_info": {
   "codemirror_mode": {
    "name": "ipython",
    "version": 3
   },
   "file_extension": ".py",
   "mimetype": "text/x-python",
   "name": "python",
   "nbconvert_exporter": "python",
   "pygments_lexer": "ipython3",
   "version": "3.7.4"
  }
 },
 "nbformat": 4,
 "nbformat_minor": 2
}
